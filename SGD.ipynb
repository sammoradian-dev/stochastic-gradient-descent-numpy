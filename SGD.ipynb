{
 "cells": [
  {
   "cell_type": "code",
   "execution_count": 3,
   "metadata": {},
   "outputs": [],
   "source": [
    "import pandas as pd\n",
    "import numpy as np\n",
    "import warnings\n",
    "import matplotlib.pyplot as plt"
   ]
  },
  {
   "cell_type": "code",
   "execution_count": null,
   "metadata": {},
   "outputs": [],
   "source": [
    "warnings.filterwarnings(\"ignore\")"
   ]
  },
  {
   "cell_type": "code",
   "execution_count": null,
   "metadata": {},
   "outputs": [
    {
     "data": {
      "text/plain": [
       "(3500, 6)"
      ]
     },
     "execution_count": 94,
     "metadata": {},
     "output_type": "execute_result"
    }
   ],
   "source": [
    "train_data = pd.read_csv(\"usa-housing-train-preprocessed.csv\" , index_col=0)\n",
    "train_data.shape"
   ]
  },
  {
   "cell_type": "code",
   "execution_count": null,
   "metadata": {},
   "outputs": [],
   "source": [
    "X_train = train_data.drop(\"Price\" , axis=1)\n",
    "y_train = train_data[\"Price\"]\n",
    "\n",
    "\n",
    "y_train = np.array(y_train).reshape(-1,1)"
   ]
  },
  {
   "cell_type": "code",
   "execution_count": null,
   "metadata": {},
   "outputs": [],
   "source": [
    "ones = np.ones((X_train.shape[0],1))\n",
    "X_train = np.hstack((ones , X_train))"
   ]
  },
  {
   "cell_type": "code",
   "execution_count": null,
   "metadata": {},
   "outputs": [],
   "source": [
    "def multiple_linear_regression(X,W):\n",
    "    y = X @ W\n",
    "    return y"
   ]
  },
  {
   "cell_type": "code",
   "execution_count": null,
   "metadata": {},
   "outputs": [],
   "source": [
    "def mse(y, y_hat):\n",
    "    loss = np.mean((y - y_hat)**2)\n",
    "    return loss"
   ]
  },
  {
   "cell_type": "code",
   "execution_count": null,
   "metadata": {},
   "outputs": [],
   "source": [
    "def mape(y, y_hat):\n",
    "    loss = np.mean(np.abs((y - y_hat) / y) * 100)\n",
    "    return loss"
   ]
  },
  {
   "cell_type": "code",
   "execution_count": null,
   "metadata": {},
   "outputs": [],
   "source": [
    "def gradient(x , y_hat , y):\n",
    "    x = x.reshape(-1,1)\n",
    "    grads = 2 * (y_hat - y) * x / x.shape[0] \n",
    "    return grads\n",
    "\n",
    "# dividing by x.shape[0] normalizes the gradient which leads to more consistent updates and improved model accuracy.\n",
    "# in this case, it resulted in a 15% accuracy improvement"
   ]
  },
  {
   "cell_type": "code",
   "execution_count": null,
   "metadata": {},
   "outputs": [],
   "source": [
    "def gradient_descent(W , eta , grads):\n",
    "    W -= eta*grads\n",
    "    return W"
   ]
  },
  {
   "cell_type": "code",
   "execution_count": null,
   "metadata": {},
   "outputs": [],
   "source": [
    "def R2(y, y_hat):\n",
    "    return 1 - np.sum((y -y_hat)**2) / np.sum((y - y.mean())**2)"
   ]
  },
  {
   "cell_type": "code",
   "execution_count": null,
   "metadata": {},
   "outputs": [
    {
     "name": "stdout",
     "output_type": "stream",
     "text": [
      "epohc: 0 , error: 0.04892784453917902\n",
      "epohc: 1 , error: 0.011512614818511038\n",
      "epohc: 2 , error: 0.011512614818511038\n",
      "epohc: 3 , error: 0.011512614818511038\n",
      "epohc: 4 , error: 0.011512614818511038\n",
      "epohc: 5 , error: 0.011512614818511038\n",
      "epohc: 6 , error: 0.011512614818511038\n",
      "epohc: 7 , error: 0.011512614818511038\n"
     ]
    }
   ],
   "source": [
    "epoch = 1000\n",
    "eta = 0.1\n",
    "W = np.random.randn(X_train.shape[1], 1)\n",
    "tol = 1e-5\n",
    "best_loss = float('inf')  # the first value for best loss\n",
    "n_iter_no_change = 5 # epochs without improvement before stopping\n",
    "no_change = 0\n",
    "error_history = [] # this is used for plotting the errors\n",
    "\n",
    "for i in range(epoch):\n",
    "    error_history_per_epoch = [] # reset error history for the new epoch\n",
    "    for x in  range(len(X_train)):\n",
    "        y_hat = multiple_linear_regression(X_train[x], W)\n",
    "        error = mse(y_hat=y_hat, y=y_train[x]) # calculate the error\n",
    "        error_history_per_epoch.append(error)\n",
    "        grads = gradient(X_train[x], y_hat, y_train[x]) \n",
    "        W = gradient_descent(W, eta, grads) # update the coefficients\n",
    "\n",
    "    error_history_per_epoch = np.mean(error_history_per_epoch)\n",
    "    error_history.append(error_history_per_epoch) \n",
    "    print(f\"epoch: {i} , error: {error_history_per_epoch}\")\n",
    "    if error_history_per_epoch > best_loss - tol:\n",
    "        if no_change >= n_iter_no_change:\n",
    "            break\n",
    "        else:\n",
    "            no_change += 1\n",
    "\n",
    "    else:\n",
    "        best_loss = error_history_per_epoch\n",
    "        no_change = 0\n"
   ]
  },
  {
   "cell_type": "code",
   "execution_count": null,
   "metadata": {},
   "outputs": [
    {
     "data": {
      "text/plain": [
       "[<matplotlib.lines.Line2D at 0x22e73b2f9d0>]"
      ]
     },
     "execution_count": 104,
     "metadata": {},
     "output_type": "execute_result"
    },
    {
     "data": {
      "image/png": "[encoded data removed]",
      "text/plain": [
       "<Figure size 640x480 with 1 Axes>"
      ]
     },
     "metadata": {},
     "output_type": "display_data"
    }
   ],
   "source": [
    "plt.plot(error_history)"
   ]
  },
  {
   "cell_type": "code",
   "execution_count": null,
   "metadata": {},
   "outputs": [
    {
     "name": "stdout",
     "output_type": "stream",
     "text": [
      "evaluation on train data:\n",
      "\n",
      "R2: 90.539829833307\n",
      "MSE: 0.012058929417505937\n",
      "MAPE: 7.996000870540965\n"
     ]
    }
   ],
   "source": [
    "# evaluation on train data\n",
    "pred = multiple_linear_regression(X_train , W)\n",
    "R2_SCORE = R2(y_train , pred)\n",
    "mean_squared_error = mse(y_train , pred)\n",
    "mean_absolute_percentage_error = mape(y_train, pred)\n",
    "print(\"evaluation on train data:\\n\")\n",
    "print(f\"R2: {R2_SCORE*100}\")\n",
    "print(f\"MSE: {mean_squared_error}\")\n",
    "print(f\"MAPE: {mean_absolute_percentage_error}\")"
   ]
  },
  {
   "cell_type": "code",
   "execution_count": null,
   "metadata": {},
   "outputs": [
    {
     "data": {
      "text/plain": [
       "(1500, 6)"
      ]
     },
     "execution_count": 106,
     "metadata": {},
     "output_type": "execute_result"
    }
   ],
   "source": [
    "test_data = pd.read_csv(\"usa-housing-test-preprocessed.csv\" , index_col=0)\n",
    "test_data.shape"
   ]
  },
  {
   "cell_type": "code",
   "execution_count": null,
   "metadata": {},
   "outputs": [],
   "source": [
    "X_test = test_data.drop(\"Price\" , axis=1)\n",
    "y_test = test_data[\"Price\"]\n",
    "\n",
    "y_test = np.array(y_test).reshape(-1,1)"
   ]
  },
  {
   "cell_type": "code",
   "execution_count": null,
   "metadata": {},
   "outputs": [],
   "source": [
    "ones = np.ones((X_test.shape[0],1))\n",
    "X_test = np.hstack((ones , X_test))"
   ]
  },
  {
   "cell_type": "code",
   "execution_count": null,
   "metadata": {},
   "outputs": [
    {
     "name": "stdout",
     "output_type": "stream",
     "text": [
      "evaluation on test data:\n",
      "\n",
      "R2: 89.9289947473298\n",
      "MSE: 0.011884825943046655\n",
      "MAPE: 7.621056329362672\n"
     ]
    }
   ],
   "source": [
    "# evaluation on test data\n",
    "pred = multiple_linear_regression(X_test , W)\n",
    "R2_SCORE = R2(y_test , pred)\n",
    "mean_squared_error = mse(y_test, pred)\n",
    "mean_absolute_percentage_error = mape(y_test, pred)\n",
    "print(\"evaluation on test data:\\n\")\n",
    "print(f\"R2: {R2_SCORE*100}\")\n",
    "print(f\"MSE: {mean_squared_error}\")\n",
    "print(f\"MAPE: {mean_absolute_percentage_error}\")"
   ]
  }
 ],
 "metadata": {
  "kernelspec": {
   "display_name": "Python 3",
   "language": "python",
   "name": "python3"
  },
  "language_info": {
   "codemirror_mode": {
    "name": "ipython",
    "version": 3
   },
   "file_extension": ".py",
   "mimetype": "text/x-python",
   "name": "python",
   "nbconvert_exporter": "python",
   "pygments_lexer": "ipython3",
   "version": "3.10.0"
  }
 },
 "nbformat": 4,
 "nbformat_minor": 2
}
